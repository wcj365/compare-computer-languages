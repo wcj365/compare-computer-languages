{
 "cells": [
  {
   "cell_type": "markdown",
   "metadata": {},
   "source": [
    "## Comparing Programming Language Popularity - Using Altair Visualization Library\n",
    "We extract data from stackflow.com for Year 2018 and 2019.\n",
    "The data represent the order of aggregate number of tags (programming languages, libraries, tools). \n",
    "We compare two year to see the change of ranking over time."
   ]
  },
  {
   "cell_type": "code",
   "execution_count": 62,
   "metadata": {
    "_cell_guid": "b1076dfc-b9ad-4769-8c92-a6c4dae69d19",
    "_uuid": "8f2839f25d086af736a60e9eeb907d3b93b6e0e5"
   },
   "outputs": [
    {
     "data": {
      "text/plain": [
       "RendererRegistry.enable('default')"
      ]
     },
     "execution_count": 62,
     "metadata": {},
     "output_type": "execute_result"
    }
   ],
   "source": [
    "import pandas as pd\n",
    "import altair as alt\n",
    "alt.renderers.enable('default')"
   ]
  },
  {
   "cell_type": "code",
   "execution_count": 41,
   "metadata": {},
   "outputs": [
    {
     "name": "stdout",
     "output_type": "stream",
     "text": [
      "<class 'pandas.core.frame.DataFrame'>\n",
      "Int64Index: 5090 entries, 0 to 5089\n",
      "Data columns (total 3 columns):\n",
      "Tag         5086 non-null object\n",
      "Rank2018    5090 non-null int64\n",
      "Rank2019    5090 non-null int64\n",
      "dtypes: int64(2), object(1)\n",
      "memory usage: 159.1+ KB\n"
     ]
    }
   ],
   "source": [
    "# Column specification for the fixed-width format (fwf)\n",
    "ColSpecs = [(0,32),(32,41)] \n",
    "\n",
    "df18 = pd.read_fwf(\"./data/2018-results.txt\",colspecs=ColSpecs,Header=1, skiprows=(1,1))\n",
    "df19 = pd.read_fwf(\"./data/2019-results.txt\",colspecs=ColSpecs,Header=1, skiprows=(1,1))\n",
    "\n",
    "df = pd.merge(df18, df19, on=\"Tag\")\n",
    "df.info()"
   ]
  },
  {
   "cell_type": "code",
   "execution_count": 42,
   "metadata": {},
   "outputs": [
    {
     "data": {
      "text/html": [
       "<div>\n",
       "<style scoped>\n",
       "    .dataframe tbody tr th:only-of-type {\n",
       "        vertical-align: middle;\n",
       "    }\n",
       "\n",
       "    .dataframe tbody tr th {\n",
       "        vertical-align: top;\n",
       "    }\n",
       "\n",
       "    .dataframe thead th {\n",
       "        text-align: right;\n",
       "    }\n",
       "</style>\n",
       "<table border=\"1\" class=\"dataframe\">\n",
       "  <thead>\n",
       "    <tr style=\"text-align: right;\">\n",
       "      <th></th>\n",
       "      <th>Tag</th>\n",
       "      <th>Rank2018</th>\n",
       "      <th>Rank2019</th>\n",
       "    </tr>\n",
       "  </thead>\n",
       "  <tbody>\n",
       "    <tr>\n",
       "      <th>50</th>\n",
       "      <td>excel-vba</td>\n",
       "      <td>51</td>\n",
       "      <td>1650</td>\n",
       "    </tr>\n",
       "  </tbody>\n",
       "</table>\n",
       "</div>"
      ],
      "text/plain": [
       "          Tag  Rank2018  Rank2019\n",
       "50  excel-vba        51      1650"
      ]
     },
     "execution_count": 42,
     "metadata": {},
     "output_type": "execute_result"
    }
   ],
   "source": [
    " # This row is an outlier which screws up our plot\n",
    "df[df[\"Tag\"] == \"excel-vba\"]  "
   ]
  },
  {
   "cell_type": "code",
   "execution_count": 43,
   "metadata": {
    "_cell_guid": "79c7e3d0-c299-4dcb-8224-4455121ee9b0",
    "_uuid": "d629ff2d2480ee46fbb7e2d37f6b5fab8052498a"
   },
   "outputs": [
    {
     "data": {
      "text/html": [
       "<div>\n",
       "<style scoped>\n",
       "    .dataframe tbody tr th:only-of-type {\n",
       "        vertical-align: middle;\n",
       "    }\n",
       "\n",
       "    .dataframe tbody tr th {\n",
       "        vertical-align: top;\n",
       "    }\n",
       "\n",
       "    .dataframe thead th {\n",
       "        text-align: right;\n",
       "    }\n",
       "</style>\n",
       "<table border=\"1\" class=\"dataframe\">\n",
       "  <thead>\n",
       "    <tr style=\"text-align: right;\">\n",
       "      <th></th>\n",
       "      <th>Tag</th>\n",
       "      <th>Rank2018</th>\n",
       "      <th>Rank2019</th>\n",
       "    </tr>\n",
       "  </thead>\n",
       "  <tbody>\n",
       "  </tbody>\n",
       "</table>\n",
       "</div>"
      ],
      "text/plain": [
       "Empty DataFrame\n",
       "Columns: [Tag, Rank2018, Rank2019]\n",
       "Index: []"
      ]
     },
     "execution_count": 43,
     "metadata": {},
     "output_type": "execute_result"
    }
   ],
   "source": [
    "# We drop it.\n",
    "df = df[df[\"Tag\"] != \"excel-vba\"]  \n",
    "df[df[\"Tag\"] == \"excel-vba\"]"
   ]
  },
  {
   "cell_type": "code",
   "execution_count": null,
   "metadata": {},
   "outputs": [],
   "source": []
  },
  {
   "cell_type": "code",
   "execution_count": 59,
   "metadata": {},
   "outputs": [
    {
     "data": {
      "text/html": [
       "<div>\n",
       "<style scoped>\n",
       "    .dataframe tbody tr th:only-of-type {\n",
       "        vertical-align: middle;\n",
       "    }\n",
       "\n",
       "    .dataframe tbody tr th {\n",
       "        vertical-align: top;\n",
       "    }\n",
       "\n",
       "    .dataframe thead th {\n",
       "        text-align: right;\n",
       "    }\n",
       "</style>\n",
       "<table border=\"1\" class=\"dataframe\">\n",
       "  <thead>\n",
       "    <tr style=\"text-align: right;\">\n",
       "      <th></th>\n",
       "      <th>Tag</th>\n",
       "      <th>Rank2018</th>\n",
       "      <th>Rank2019</th>\n",
       "    </tr>\n",
       "  </thead>\n",
       "  <tbody>\n",
       "    <tr>\n",
       "      <th>0</th>\n",
       "      <td>javascript</td>\n",
       "      <td>1</td>\n",
       "      <td>2</td>\n",
       "    </tr>\n",
       "    <tr>\n",
       "      <th>1</th>\n",
       "      <td>python</td>\n",
       "      <td>2</td>\n",
       "      <td>1</td>\n",
       "    </tr>\n",
       "    <tr>\n",
       "      <th>2</th>\n",
       "      <td>java</td>\n",
       "      <td>3</td>\n",
       "      <td>3</td>\n",
       "    </tr>\n",
       "    <tr>\n",
       "      <th>3</th>\n",
       "      <td>android</td>\n",
       "      <td>4</td>\n",
       "      <td>5</td>\n",
       "    </tr>\n",
       "    <tr>\n",
       "      <th>4</th>\n",
       "      <td>c#</td>\n",
       "      <td>5</td>\n",
       "      <td>4</td>\n",
       "    </tr>\n",
       "    <tr>\n",
       "      <th>5</th>\n",
       "      <td>php</td>\n",
       "      <td>6</td>\n",
       "      <td>6</td>\n",
       "    </tr>\n",
       "    <tr>\n",
       "      <th>6</th>\n",
       "      <td>html</td>\n",
       "      <td>7</td>\n",
       "      <td>7</td>\n",
       "    </tr>\n",
       "    <tr>\n",
       "      <th>7</th>\n",
       "      <td>angular</td>\n",
       "      <td>8</td>\n",
       "      <td>11</td>\n",
       "    </tr>\n",
       "    <tr>\n",
       "      <th>8</th>\n",
       "      <td>jquery</td>\n",
       "      <td>9</td>\n",
       "      <td>16</td>\n",
       "    </tr>\n",
       "    <tr>\n",
       "      <th>9</th>\n",
       "      <td>css</td>\n",
       "      <td>10</td>\n",
       "      <td>13</td>\n",
       "    </tr>\n",
       "  </tbody>\n",
       "</table>\n",
       "</div>"
      ],
      "text/plain": [
       "          Tag  Rank2018  Rank2019\n",
       "0  javascript         1         2\n",
       "1      python         2         1\n",
       "2        java         3         3\n",
       "3     android         4         5\n",
       "4          c#         5         4\n",
       "5         php         6         6\n",
       "6        html         7         7\n",
       "7     angular         8        11\n",
       "8      jquery         9        16\n",
       "9         css        10        13"
      ]
     },
     "execution_count": 59,
     "metadata": {},
     "output_type": "execute_result"
    }
   ],
   "source": [
    "# Sort the dataset by 2018 rank\n",
    "df.sort_values(by=['Rank2018'], ascending=True, inplace=True)\n",
    "df.head(10)"
   ]
  },
  {
   "cell_type": "markdown",
   "metadata": {},
   "source": [
    "### WE try to differentiate the three categories with different colors\n",
    "- No change in ranking (Rank 2019 = Rank 2018)\n",
    "- Rank improves (Rank 2019 < Rank 2018)\n",
    "- Rank wrosens (Rank 2019 > Rank 2018)"
   ]
  },
  {
   "cell_type": "code",
   "execution_count": 63,
   "metadata": {},
   "outputs": [
    {
     "name": "stderr",
     "output_type": "stream",
     "text": [
      "C:\\Users\\jay\\Anaconda3\\lib\\site-packages\\ipykernel_launcher.py:5: UserWarning: Boolean Series key will be reindexed to match DataFrame index.\n",
      "  \"\"\"\n",
      "C:\\Users\\jay\\Anaconda3\\lib\\site-packages\\ipykernel_launcher.py:15: UserWarning: Boolean Series key will be reindexed to match DataFrame index.\n",
      "  from ipykernel import kernelapp as app\n",
      "C:\\Users\\jay\\Anaconda3\\lib\\site-packages\\ipykernel_launcher.py:24: UserWarning: Boolean Series key will be reindexed to match DataFrame index.\n"
     ]
    },
    {
     "data": {
      "text/html": [
       "\n",
       "<div id=\"altair-viz-663f612913aa486296c6e46565a146b8\"></div>\n",
       "<script type=\"text/javascript\">\n",
       "  (function(spec, embedOpt){\n",
       "    const outputDiv = document.getElementById(\"altair-viz-663f612913aa486296c6e46565a146b8\");\n",
       "    const paths = {\n",
       "      \"vega\": \"https://cdn.jsdelivr.net/npm//vega@5?noext\",\n",
       "      \"vega-lib\": \"https://cdn.jsdelivr.net/npm//vega-lib?noext\",\n",
       "      \"vega-lite\": \"https://cdn.jsdelivr.net/npm//vega-lite@4.0.2?noext\",\n",
       "      \"vega-embed\": \"https://cdn.jsdelivr.net/npm//vega-embed@6?noext\",\n",
       "    };\n",
       "\n",
       "    function loadScript(lib) {\n",
       "      return new Promise(function(resolve, reject) {\n",
       "        var s = document.createElement('script');\n",
       "        s.src = paths[lib];\n",
       "        s.async = true;\n",
       "        s.onload = () => resolve(paths[lib]);\n",
       "        s.onerror = () => reject(`Error loading script: ${paths[lib]}`);\n",
       "        document.getElementsByTagName(\"head\")[0].appendChild(s);\n",
       "      });\n",
       "    }\n",
       "\n",
       "    function showError(err) {\n",
       "      outputDiv.innerHTML = `<div class=\"error\" style=\"color:red;\">${err}</div>`;\n",
       "      throw err;\n",
       "    }\n",
       "\n",
       "    function displayChart(vegaEmbed) {\n",
       "      vegaEmbed(outputDiv, spec, embedOpt)\n",
       "        .catch(err => showError(`Javascript Error: ${err.message}<br>This usually means there's a typo in your chart specification. See the javascript console for the full traceback.`));\n",
       "    }\n",
       "\n",
       "    if(typeof define === \"function\" && define.amd) {\n",
       "      requirejs.config({paths});\n",
       "      require([\"vega-embed\"], displayChart, err => showError(`Error loading script: ${err.message}`));\n",
       "    } else if (typeof vegaEmbed === \"function\") {\n",
       "      displayChart(vegaEmbed);\n",
       "    } else {\n",
       "      loadScript(\"vega\")\n",
       "        .then(() => loadScript(\"vega-lite\"))\n",
       "        .then(() => loadScript(\"vega-embed\"))\n",
       "        .catch(showError)\n",
       "        .then(() => displayChart(vegaEmbed));\n",
       "    }\n",
       "  })({\"config\": {\"view\": {\"continuousWidth\": 400, \"continuousHeight\": 300}}, \"layer\": [{\"data\": {\"name\": \"data-2088b6387e762e11b375793681b830fd\"}, \"mark\": {\"type\": \"circle\", \"color\": \"lightgray\", \"size\": 2500}, \"encoding\": {\"tooltip\": [{\"type\": \"nominal\", \"field\": \"Tag\"}, {\"type\": \"quantitative\", \"field\": \"Rank2018\"}, {\"type\": \"quantitative\", \"field\": \"Rank2019\"}], \"x\": {\"type\": \"quantitative\", \"field\": \"Rank2018\"}, \"y\": {\"type\": \"quantitative\", \"field\": \"Rank2019\"}}}, {\"data\": {\"name\": \"data-53cd7ee501fe091434628f04e073d4fd\"}, \"mark\": {\"type\": \"circle\", \"color\": \"red\", \"size\": 2500}, \"encoding\": {\"tooltip\": [{\"type\": \"nominal\", \"field\": \"Tag\"}, {\"type\": \"quantitative\", \"field\": \"Rank2018\"}, {\"type\": \"quantitative\", \"field\": \"Rank2019\"}], \"x\": {\"type\": \"quantitative\", \"field\": \"Rank2018\"}, \"y\": {\"type\": \"quantitative\", \"field\": \"Rank2019\"}}}, {\"data\": {\"name\": \"data-ff097034e85c5e05f54b53e15e2dab2a\"}, \"mark\": {\"type\": \"circle\", \"color\": \"green\", \"size\": 2500}, \"encoding\": {\"tooltip\": [{\"type\": \"nominal\", \"field\": \"Tag\"}, {\"type\": \"quantitative\", \"field\": \"Rank2018\"}, {\"type\": \"quantitative\", \"field\": \"Rank2019\"}], \"x\": {\"type\": \"quantitative\", \"field\": \"Rank2018\"}, \"y\": {\"type\": \"quantitative\", \"field\": \"Rank2019\"}}}, {\"data\": {\"name\": \"data-2088b6387e762e11b375793681b830fd\"}, \"mark\": {\"type\": \"text\", \"align\": \"center\", \"baseline\": \"middle\", \"size\": 16}, \"encoding\": {\"text\": {\"type\": \"nominal\", \"field\": \"Tag\"}, \"x\": {\"type\": \"quantitative\", \"field\": \"Rank2018\"}, \"y\": {\"type\": \"quantitative\", \"field\": \"Rank2019\"}}, \"height\": 700, \"width\": 700}], \"$schema\": \"https://vega.github.io/schema/vega-lite/v4.0.2.json\", \"datasets\": {\"data-2088b6387e762e11b375793681b830fd\": [{\"Tag\": \"javascript\", \"Rank2018\": 1, \"Rank2019\": 2}, {\"Tag\": \"python\", \"Rank2018\": 2, \"Rank2019\": 1}, {\"Tag\": \"java\", \"Rank2018\": 3, \"Rank2019\": 3}, {\"Tag\": \"android\", \"Rank2018\": 4, \"Rank2019\": 5}, {\"Tag\": \"c#\", \"Rank2018\": 5, \"Rank2019\": 4}, {\"Tag\": \"php\", \"Rank2018\": 6, \"Rank2019\": 6}, {\"Tag\": \"html\", \"Rank2018\": 7, \"Rank2019\": 7}, {\"Tag\": \"angular\", \"Rank2018\": 8, \"Rank2019\": 11}, {\"Tag\": \"jquery\", \"Rank2018\": 9, \"Rank2019\": 16}, {\"Tag\": \"css\", \"Rank2018\": 10, \"Rank2019\": 13}, {\"Tag\": \"r\", \"Rank2018\": 11, \"Rank2019\": 12}, {\"Tag\": \"python-3.x\", \"Rank2018\": 12, \"Rank2019\": 8}, {\"Tag\": \"node.js\", \"Rank2018\": 13, \"Rank2019\": 10}, {\"Tag\": \"c++\", \"Rank2018\": 14, \"Rank2019\": 14}, {\"Tag\": \"sql\", \"Rank2018\": 15, \"Rank2019\": 15}, {\"Tag\": \"reactjs\", \"Rank2018\": 16, \"Rank2019\": 9}, {\"Tag\": \"mysql\", \"Rank2018\": 17, \"Rank2019\": 17}, {\"Tag\": \"ios\", \"Rank2018\": 18, \"Rank2019\": 19}, {\"Tag\": \"swift\", \"Rank2018\": 19, \"Rank2019\": 18}, {\"Tag\": \"arrays\", \"Rank2018\": 20, \"Rank2019\": 23}, {\"Tag\": \"json\", \"Rank2018\": 21, \"Rank2019\": 25}, {\"Tag\": \"pandas\", \"Rank2018\": 22, \"Rank2019\": 20}, {\"Tag\": \"sql-server\", \"Rank2018\": 23, \"Rank2019\": 27}, {\"Tag\": \"excel\", \"Rank2018\": 24, \"Rank2019\": 22}, {\"Tag\": \"django\", \"Rank2018\": 25, \"Rank2019\": 21}], \"data-53cd7ee501fe091434628f04e073d4fd\": [{\"Tag\": \"javascript\", \"Rank2018\": 1, \"Rank2019\": 2}, {\"Tag\": \"android\", \"Rank2018\": 4, \"Rank2019\": 5}, {\"Tag\": \"angular\", \"Rank2018\": 8, \"Rank2019\": 11}, {\"Tag\": \"jquery\", \"Rank2018\": 9, \"Rank2019\": 16}, {\"Tag\": \"css\", \"Rank2018\": 10, \"Rank2019\": 13}, {\"Tag\": \"r\", \"Rank2018\": 11, \"Rank2019\": 12}, {\"Tag\": \"ios\", \"Rank2018\": 18, \"Rank2019\": 19}, {\"Tag\": \"arrays\", \"Rank2018\": 20, \"Rank2019\": 23}, {\"Tag\": \"json\", \"Rank2018\": 21, \"Rank2019\": 25}, {\"Tag\": \"sql-server\", \"Rank2018\": 23, \"Rank2019\": 27}], \"data-ff097034e85c5e05f54b53e15e2dab2a\": [{\"Tag\": \"python\", \"Rank2018\": 2, \"Rank2019\": 1}, {\"Tag\": \"c#\", \"Rank2018\": 5, \"Rank2019\": 4}, {\"Tag\": \"python-3.x\", \"Rank2018\": 12, \"Rank2019\": 8}, {\"Tag\": \"node.js\", \"Rank2018\": 13, \"Rank2019\": 10}, {\"Tag\": \"reactjs\", \"Rank2018\": 16, \"Rank2019\": 9}, {\"Tag\": \"swift\", \"Rank2018\": 19, \"Rank2019\": 18}, {\"Tag\": \"pandas\", \"Rank2018\": 22, \"Rank2019\": 20}, {\"Tag\": \"excel\", \"Rank2018\": 24, \"Rank2019\": 22}, {\"Tag\": \"django\", \"Rank2018\": 25, \"Rank2019\": 21}]}}, {\"mode\": \"vega-lite\"});\n",
       "</script>"
      ],
      "text/plain": [
       "alt.LayerChart(...)"
      ]
     },
     "execution_count": 63,
     "metadata": {},
     "output_type": "execute_result"
    }
   ],
   "source": [
    "source = df.head(25)    # compare top 25 of Year 2018\n",
    "\n",
    "# No change in rank, use light gray, the circles are on the 45 degree diagnoal line\n",
    "\n",
    "source1 = source[df['Rank2018'] == df['Rank2019']]\n",
    "point1 = alt.Chart(source).mark_circle(size=2500, color='lightgray').encode(\n",
    "    x = 'Rank2018',\n",
    "    y = 'Rank2019',\n",
    "    tooltip=[\"Tag\", \"Rank2018\", \"Rank2019\"]\n",
    "    \n",
    ")\n",
    "\n",
    "# Rank worsens, use red color, these circles are above the 45 degree diagnoal line\n",
    "\n",
    "source2 = source[df['Rank2018'] < df['Rank2019']]\n",
    "point2 = alt.Chart(source2).mark_circle(size=2500, color='red').encode(\n",
    "    x = 'Rank2018',\n",
    "    y = 'Rank2019',\n",
    "    tooltip=[\"Tag\", \"Rank2018\", \"Rank2019\"]     # make it interactive with tooltip for mouse over\n",
    ")\n",
    "\n",
    "# Rank improves, use green color, these circles are below tlinehe 45 degree diagonal line\n",
    "\n",
    "source3 = source[df['Rank2018'] > df['Rank2019']]\n",
    "point3 = alt.Chart(source3).mark_circle(size=2500, color='green').encode(\n",
    "    x = 'Rank2018',\n",
    "    y = 'Rank2019',\n",
    "    tooltip=[\"Tag\", \"Rank2018\", \"Rank2019\"]\n",
    ")\n",
    "\n",
    "# Display the name of the tag in the center of the circle\n",
    "\n",
    "text=alt.Chart(source).mark_text(align='center', size=16, baseline='middle').encode(\n",
    "    x='Rank2018',\n",
    "    y='Rank2019',\n",
    "    text='Tag'\n",
    ").properties(\n",
    "    width=700,\n",
    "    height=700\n",
    ")\n",
    "\n",
    "\n",
    "alt.layer(point1, point2, point3, text)\n"
   ]
  },
  {
   "cell_type": "markdown",
   "metadata": {},
   "source": [
    "## Observations\n",
    "- Good news for Python programmers. Python, Python 3.7, and Pandas rank improves meaning they become more popular. \n",
    "- Python is ranked #1 in 2019 jumpped from #2 in 2018\n"
   ]
  }
 ],
 "metadata": {
  "kernelspec": {
   "display_name": "Python 3",
   "language": "python",
   "name": "python3"
  },
  "language_info": {
   "codemirror_mode": {
    "name": "ipython",
    "version": 3
   },
   "file_extension": ".py",
   "mimetype": "text/x-python",
   "name": "python",
   "nbconvert_exporter": "python",
   "pygments_lexer": "ipython3",
   "version": "3.7.1"
  },
  "widgets": {
   "application/vnd.jupyter.widget-state+json": {
    "state": {
     "096fcc39110a40ca87c34c4793519ce8": {
      "model_module": "@jupyter-widgets/base",
      "model_module_version": "1.1.0",
      "model_name": "LayoutModel",
      "state": {
       "_model_module": "@jupyter-widgets/base",
       "_model_module_version": "1.1.0",
       "_model_name": "LayoutModel",
       "_view_count": null,
       "_view_module": "@jupyter-widgets/base",
       "_view_module_version": "1.1.0",
       "_view_name": "LayoutView",
       "align_content": null,
       "align_items": null,
       "align_self": null,
       "border": null,
       "bottom": null,
       "display": null,
       "flex": null,
       "flex_flow": null,
       "grid_area": null,
       "grid_auto_columns": null,
       "grid_auto_flow": null,
       "grid_auto_rows": null,
       "grid_column": null,
       "grid_gap": null,
       "grid_row": null,
       "grid_template_areas": null,
       "grid_template_columns": null,
       "grid_template_rows": null,
       "height": null,
       "justify_content": null,
       "left": null,
       "margin": null,
       "max_height": null,
       "max_width": null,
       "min_height": null,
       "min_width": null,
       "order": null,
       "overflow": null,
       "overflow_x": null,
       "overflow_y": null,
       "padding": null,
       "right": null,
       "top": null,
       "visibility": null,
       "width": null
      }
     },
     "10e175efbd644cf5abdee6e4f2a3fc86": {
      "model_module": "@jupyter-widgets/controls",
      "model_module_version": "1.4.0",
      "model_name": "SliderStyleModel",
      "state": {
       "_model_module": "@jupyter-widgets/controls",
       "_model_module_version": "1.4.0",
       "_model_name": "SliderStyleModel",
       "_view_count": null,
       "_view_module": "@jupyter-widgets/base",
       "_view_module_version": "1.1.0",
       "_view_name": "StyleView",
       "description_width": "",
       "handle_color": null
      }
     },
     "318b7ad221c54c2a8b1173e8f70d70af": {
      "model_module": "@jupyter-widgets/controls",
      "model_module_version": "1.4.0",
      "model_name": "VBoxModel",
      "state": {
       "_dom_classes": [
        "widget-interact"
       ],
       "_model_module": "@jupyter-widgets/controls",
       "_model_module_version": "1.4.0",
       "_model_name": "VBoxModel",
       "_view_count": null,
       "_view_module": "@jupyter-widgets/controls",
       "_view_module_version": "1.4.0",
       "_view_name": "VBoxView",
       "box_style": "",
       "children": [
        "IPY_MODEL_60bf8c6f87b74b348b95d45381ed3919",
        "IPY_MODEL_e3a68c99c96e48a69ab9f103a54312a1"
       ],
       "layout": "IPY_MODEL_096fcc39110a40ca87c34c4793519ce8"
      }
     },
     "3b6a0a0de91048e0b06474cf6ea89762": {
      "model_module": "@jupyter-widgets/base",
      "model_module_version": "1.1.0",
      "model_name": "LayoutModel",
      "state": {
       "_model_module": "@jupyter-widgets/base",
       "_model_module_version": "1.1.0",
       "_model_name": "LayoutModel",
       "_view_count": null,
       "_view_module": "@jupyter-widgets/base",
       "_view_module_version": "1.1.0",
       "_view_name": "LayoutView",
       "align_content": null,
       "align_items": null,
       "align_self": null,
       "border": null,
       "bottom": null,
       "display": null,
       "flex": null,
       "flex_flow": null,
       "grid_area": null,
       "grid_auto_columns": null,
       "grid_auto_flow": null,
       "grid_auto_rows": null,
       "grid_column": null,
       "grid_gap": null,
       "grid_row": null,
       "grid_template_areas": null,
       "grid_template_columns": null,
       "grid_template_rows": null,
       "height": null,
       "justify_content": null,
       "left": null,
       "margin": null,
       "max_height": null,
       "max_width": null,
       "min_height": null,
       "min_width": null,
       "order": null,
       "overflow": null,
       "overflow_x": null,
       "overflow_y": null,
       "padding": null,
       "right": null,
       "top": null,
       "visibility": null,
       "width": null
      }
     },
     "60bf8c6f87b74b348b95d45381ed3919": {
      "model_module": "@jupyter-widgets/controls",
      "model_module_version": "1.4.0",
      "model_name": "IntSliderModel",
      "state": {
       "_dom_classes": [],
       "_model_module": "@jupyter-widgets/controls",
       "_model_module_version": "1.4.0",
       "_model_name": "IntSliderModel",
       "_view_count": null,
       "_view_module": "@jupyter-widgets/controls",
       "_view_module_version": "1.4.0",
       "_view_name": "IntSliderView",
       "continuous_update": true,
       "description": "TAGS",
       "description_tooltip": null,
       "disabled": false,
       "layout": "IPY_MODEL_a64eca192c1e4af1abae0dd4696f7ce9",
       "max": 60,
       "min": 5,
       "orientation": "horizontal",
       "readout": true,
       "readout_format": "d",
       "step": 5,
       "style": "IPY_MODEL_10e175efbd644cf5abdee6e4f2a3fc86",
       "value": 30
      }
     },
     "a64eca192c1e4af1abae0dd4696f7ce9": {
      "model_module": "@jupyter-widgets/base",
      "model_module_version": "1.1.0",
      "model_name": "LayoutModel",
      "state": {
       "_model_module": "@jupyter-widgets/base",
       "_model_module_version": "1.1.0",
       "_model_name": "LayoutModel",
       "_view_count": null,
       "_view_module": "@jupyter-widgets/base",
       "_view_module_version": "1.1.0",
       "_view_name": "LayoutView",
       "align_content": null,
       "align_items": null,
       "align_self": null,
       "border": null,
       "bottom": null,
       "display": null,
       "flex": null,
       "flex_flow": null,
       "grid_area": null,
       "grid_auto_columns": null,
       "grid_auto_flow": null,
       "grid_auto_rows": null,
       "grid_column": null,
       "grid_gap": null,
       "grid_row": null,
       "grid_template_areas": null,
       "grid_template_columns": null,
       "grid_template_rows": null,
       "height": null,
       "justify_content": null,
       "left": null,
       "margin": null,
       "max_height": null,
       "max_width": null,
       "min_height": null,
       "min_width": null,
       "order": null,
       "overflow": null,
       "overflow_x": null,
       "overflow_y": null,
       "padding": null,
       "right": null,
       "top": null,
       "visibility": null,
       "width": null
      }
     },
     "e3a68c99c96e48a69ab9f103a54312a1": {
      "model_module": "@jupyter-widgets/output",
      "model_module_version": "1.0.0",
      "model_name": "OutputModel",
      "state": {
       "_dom_classes": [],
       "_model_module": "@jupyter-widgets/output",
       "_model_module_version": "1.0.0",
       "_model_name": "OutputModel",
       "_view_count": null,
       "_view_module": "@jupyter-widgets/output",
       "_view_module_version": "1.0.0",
       "_view_name": "OutputView",
       "layout": "IPY_MODEL_3b6a0a0de91048e0b06474cf6ea89762",
       "msg_id": "",
       "outputs": []
      }
     }
    },
    "version_major": 2,
    "version_minor": 0
   }
  }
 },
 "nbformat": 4,
 "nbformat_minor": 2
}
